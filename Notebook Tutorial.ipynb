{
 "cells": [
  {
   "cell_type": "markdown",
   "metadata": {},
   "source": [
    "Merkle Tree and Lamport signature short introduction\n",
    "\n"
   ]
  },
  {
   "cell_type": "markdown",
   "metadata": {},
   "source": [
    "Import Merkle tree and Lamport signature files:"
   ]
  },
  {
   "cell_type": "code",
   "execution_count": 1,
   "metadata": {
    "collapsed": true
   },
   "outputs": [],
   "source": [
    "from src.lamport import LamportSignature\n",
    "from src.merkle_tree import MerkleTree"
   ]
  },
  {
   "cell_type": "code",
   "execution_count": 2,
   "metadata": {
    "collapsed": true
   },
   "outputs": [],
   "source": [
    "N = 4  # Number of messages to sign"
   ]
  },
  {
   "cell_type": "markdown",
   "metadata": {},
   "source": [
    "Generate 'N' private/public key pairs (Xi, Yi) from the Lamport signature scheme:"
   ]
  },
  {
   "cell_type": "code",
   "execution_count": 3,
   "metadata": {
    "collapsed": true
   },
   "outputs": [],
   "source": [
    "key_pairs = [LamportSignature() for _ in range(N)]  # Private key of the Merkle signature scheme"
   ]
  },
  {
   "cell_type": "markdown",
   "metadata": {},
   "source": [
    "The leaves of the tree are the hashed values of the public keys Y0, ..., YN:"
   ]
  },
  {
   "cell_type": "code",
   "execution_count": 4,
   "metadata": {
    "collapsed": true
   },
   "outputs": [],
   "source": [
    "mk = MerkleTree(n_leaves=N)\n",
    "for i in range(N):\n",
    "    mk.add_node(key_pairs[i].get_key('public', concatenate=True), (0, i), hashed=False)"
   ]
  },
  {
   "cell_type": "markdown",
   "metadata": {},
   "source": [
    "Build Merkle tree:"
   ]
  },
  {
   "cell_type": "code",
   "execution_count": 5,
   "metadata": {
    "collapsed": true
   },
   "outputs": [],
   "source": [
    "mk.generate_tree()\n",
    "pub = mk.get_root()  # Public key of the Merkle signature scheme"
   ]
  },
  {
   "cell_type": "markdown",
   "metadata": {},
   "source": [
    "Merkle signature generation using a chosen pair of keys (Xi, Yi) from the Lamport signature scheme:"
   ]
  },
  {
   "cell_type": "code",
   "execution_count": 6,
   "metadata": {
    "collapsed": true
   },
   "outputs": [],
   "source": [
    "pair = 3  # (Xi, Yi) pair number\n",
    "sig = []  # Merkle signature\n",
    "M = \"test\"  # message to sign\n",
    "sig_prime = key_pairs[pair].sign(M)  # Lamport signature\n",
    "sig.append(sig_prime)  # Add sig_prime to the signature 'sig'.\n",
    "sig.append(key_pairs[pair].get_key('public', concatenate=True))  # Add Yi to the signature 'sig'.\n",
    "sig.append(mk.get_authentification_path_hashes(pair))  # Add auth(0), ..., auth(n-1) to the signature 'sig'."
   ]
  },
  {
   "cell_type": "markdown",
   "metadata": {},
   "source": [
    "Merkle signature verification:\n",
    "Receiver knows the public key 'pub' (tree root), the message 'M' and the Merkle signature 'sig'."
   ]
  },
  {
   "cell_type": "code",
   "execution_count": 7,
   "metadata": {},
   "outputs": [],
   "source": [
    "pub_receiver = pub\n",
    "M_receiver = M\n",
    "sig_receiver = sig"
   ]
  },
  {
   "cell_type": "markdown",
   "metadata": {},
   "source": [
    "First, the receiver verifies the one time signature 'sig_prime' of the message 'M' using the Lamport key 'Yi':"
   ]
  },
  {
   "cell_type": "code",
   "execution_count": 8,
   "metadata": {
    "scrolled": true
   },
   "outputs": [
    {
     "name": "stdout",
     "output_type": "stream",
     "text": [
      "Check one time signature of the received message: test\n",
      "One-time signature is: True\n"
     ]
    }
   ],
   "source": [
    "    print(\"Check one time signature of the received message: \" + M_receiver)\n",
    "    result = LamportSignature.verify(M_receiver, sig_receiver[0], LamportSignature.decatenate_key(sig_receiver[1]))\n",
    "    print(\"One-time signature is: \" + str(result))"
   ]
  },
  {
   "cell_type": "markdown",
   "metadata": {},
   "source": [
    "If 'sig_prime' is a valid signature of 'M', the receiver generates the Merkle tree and compare the root to the signature:"
   ]
  },
  {
   "cell_type": "code",
   "execution_count": 9,
   "metadata": {},
   "outputs": [
    {
     "name": "stdout",
     "output_type": "stream",
     "text": [
      "Merkle signature is: True\n"
     ]
    }
   ],
   "source": [
    "if result:\n",
    "        mk_receiver = MerkleTree(n_leaves=N)\n",
    "        mk_receiver.add_node(sig_receiver[1], (0, pair), hashed=False)\n",
    "        mk_receiver.generate_tree()\n",
    "\n",
    "        # The nodes of the authentification path are computed.\n",
    "        for i, (level, index) in enumerate(mk_receiver.get_authentification_path(pair)):\n",
    "            mk_receiver.add_node(sig_receiver[2][i], (level, index), hashed=True)\n",
    "        mk_receiver.generate_tree()\n",
    "\n",
    "        # If the tree's root equals the public key 'pub' the signature is valid.\n",
    "        result = mk_receiver.get_root() == pub_receiver\n",
    "        print(\"Merkle signature is: \" + str(result))"
   ]
  }
 ],
 "metadata": {
  "kernelspec": {
   "display_name": "Python 3",
   "language": "python",
   "name": "python3"
  },
  "language_info": {
   "codemirror_mode": {
    "name": "ipython",
    "version": 3
   },
   "file_extension": ".py",
   "mimetype": "text/x-python",
   "name": "python",
   "nbconvert_exporter": "python",
   "pygments_lexer": "ipython3",
   "version": "3.6.1"
  }
 },
 "nbformat": 4,
 "nbformat_minor": 2
}
