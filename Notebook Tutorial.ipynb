{
 "cells": [
  {
   "cell_type": "markdown",
   "metadata": {},
   "source": [
    "# Merkle Tree and Lamport signature\n",
    "\n",
    "This notebook explains how to use our Python 3 implementation of Merkle Tree and Lamport signature, using the SHA-256 hash function.\n"
   ]
  },
  {
   "cell_type": "markdown",
   "metadata": {},
   "source": [
    "FIrst, import Merkle tree and Lamport signature classes:"
   ]
  },
  {
   "cell_type": "code",
   "execution_count": 1,
   "metadata": {
    "collapsed": true
   },
   "outputs": [],
   "source": [
    "from src.lamport import LamportSignature\n",
    "from src.merkle_tree import MerkleTree"
   ]
  },
  {
   "cell_type": "markdown",
   "metadata": {},
   "source": [
    "The Merkle signature scheme can be used to sign a limited number of messages N with one public key pub. The number of possible messages must be a power of two, so we denote the possible number of messages as N = 2**n."
   ]
  },
  {
   "cell_type": "code",
   "execution_count": 2,
   "metadata": {
    "collapsed": true
   },
   "outputs": [],
   "source": [
    "N = 4  # Number of messages to sign"
   ]
  },
  {
   "cell_type": "markdown",
   "metadata": {},
   "source": [
    "Generate 'N' (private, public) key pairs (Xi, Yi) from the Lamport signature scheme:"
   ]
  },
  {
   "cell_type": "code",
   "execution_count": 3,
   "metadata": {
    "collapsed": true
   },
   "outputs": [],
   "source": [
    "key_pairs = [LamportSignature() for _ in range(N)]  # Private key of the Merkle signature scheme"
   ]
  },
  {
   "cell_type": "markdown",
   "metadata": {},
   "source": [
    "The leaves of the tree are the hashed values of the public keys Y0, ..., YN:"
   ]
  },
  {
   "cell_type": "code",
   "execution_count": 4,
   "metadata": {
    "collapsed": true
   },
   "outputs": [],
   "source": [
    "mk = MerkleTree(n_leaves=N)\n",
    "for i in range(N):\n",
    "    mk.add_node(key_pairs[i].get_key('public', concatenate=True), (0, i), hashed=False)"
   ]
  },
  {
   "cell_type": "markdown",
   "metadata": {},
   "source": [
    "Next, we build Merkle tree:"
   ]
  },
  {
   "cell_type": "code",
   "execution_count": 5,
   "metadata": {
    "collapsed": true
   },
   "outputs": [],
   "source": [
    "mk.generate_tree()\n",
    "pub = mk.get_root()  # Public key of the Merkle signature scheme"
   ]
  },
  {
   "cell_type": "markdown",
   "metadata": {},
   "source": [
    "Merkle signature generation using a chosen pair of keys (Xi, Yi) from the Lamport signature scheme:"
   ]
  },
  {
   "cell_type": "code",
   "execution_count": 6,
   "metadata": {
    "collapsed": true
   },
   "outputs": [],
   "source": [
    "pair = 3  # (Xi, Yi) pair number\n",
    "sig = []  # Merkle signature\n",
    "M = \"test\"  # message to sign\n",
    "sig_prime = key_pairs[pair].sign(M)  # Lamport signature\n",
    "sig.append(sig_prime)  # Add sig_prime to the signature 'sig'.\n",
    "sig.append(key_pairs[pair].get_key('public', concatenate=True))  # Add Yi to the signature 'sig'.\n",
    "sig.append(mk.get_authentification_path_hashes(pair))  # Add auth(0), ..., auth(n-1) to the signature 'sig'."
   ]
  },
  {
   "cell_type": "markdown",
   "metadata": {},
   "source": [
    "Merkle signature verification:\n",
    "Receiver knows the public key 'pub' (tree root), the message 'M' and the Merkle signature 'sig'."
   ]
  },
  {
   "cell_type": "code",
   "execution_count": 7,
   "metadata": {
    "collapsed": true
   },
   "outputs": [],
   "source": [
    "pub_receiver = pub\n",
    "M_receiver = M\n",
    "sig_receiver = sig"
   ]
  },
  {
   "cell_type": "markdown",
   "metadata": {},
   "source": [
    "First, the receiver verifies the one time signature 'sig_prime' of the message 'M' using the Lamport key 'Yi':"
   ]
  },
  {
   "cell_type": "code",
   "execution_count": 8,
   "metadata": {
    "scrolled": true
   },
   "outputs": [
    {
     "name": "stdout",
     "output_type": "stream",
     "text": [
      "Check one time signature of the received message: test\n",
      "One-time signature is: True\n"
     ]
    }
   ],
   "source": [
    "print(\"Check one time signature of the received message: \" + M_receiver)\n",
    "result = LamportSignature.verify(M_receiver, sig_receiver[0], LamportSignature.decatenate_key(sig_receiver[1]))\n",
    "print(\"One-time signature is: \" + str(result))"
   ]
  },
  {
   "cell_type": "markdown",
   "metadata": {},
   "source": [
    "If 'sig_prime' is a valid signature of 'M', the receiver generates the Merkle tree and compare the root to the signature:"
   ]
  },
  {
   "cell_type": "code",
   "execution_count": 9,
   "metadata": {},
   "outputs": [
    {
     "name": "stdout",
     "output_type": "stream",
     "text": [
      "Merkle signature is: True\n"
     ]
    }
   ],
   "source": [
    "if result:\n",
    "        mk_receiver = MerkleTree(n_leaves=N)\n",
    "        mk_receiver.add_node(sig_receiver[1], (0, pair), hashed=False)\n",
    "        mk_receiver.generate_tree()\n",
    "\n",
    "        # The nodes of the authentification path are computed.\n",
    "        for i, (level, index) in enumerate(mk_receiver.get_authentification_path(pair)):\n",
    "            mk_receiver.add_node(sig_receiver[2][i], (level, index), hashed=True)\n",
    "        mk_receiver.generate_tree()\n",
    "\n",
    "        # If the tree's root equals the public key 'pub' the signature is valid.\n",
    "        result = mk_receiver.get_root() == pub_receiver\n",
    "        print(\"Merkle signature is: \" + str(result))"
   ]
  },
  {
   "cell_type": "markdown",
   "metadata": {},
   "source": [
    "Because the Lamport signature scheme is a one-time signature scheme you must not use the same (public, private) keys several times:"
   ]
  },
  {
   "cell_type": "code",
   "execution_count": 11,
   "metadata": {},
   "outputs": [
    {
     "ename": "ValueError",
     "evalue": "Private and public keys already used!",
     "output_type": "error",
     "traceback": [
      "\u001b[1;31m---------------------------------------------------------------------------\u001b[0m",
      "\u001b[1;31mValueError\u001b[0m                                Traceback (most recent call last)",
      "\u001b[1;32m<ipython-input-11-a568b33b8b83>\u001b[0m in \u001b[0;36m<module>\u001b[1;34m()\u001b[0m\n\u001b[0;32m      1\u001b[0m \u001b[0mpair\u001b[0m \u001b[1;33m=\u001b[0m \u001b[1;36m3\u001b[0m  \u001b[1;31m# Re-use the same (Xi, Yi) pair number\u001b[0m\u001b[1;33m\u001b[0m\u001b[0m\n\u001b[0;32m      2\u001b[0m \u001b[0mM\u001b[0m \u001b[1;33m=\u001b[0m \u001b[1;34m\"test the same key pair again\"\u001b[0m  \u001b[1;31m# message to sign\u001b[0m\u001b[1;33m\u001b[0m\u001b[0m\n\u001b[1;32m----> 3\u001b[1;33m \u001b[0msig_prime\u001b[0m \u001b[1;33m=\u001b[0m \u001b[0mkey_pairs\u001b[0m\u001b[1;33m[\u001b[0m\u001b[0mpair\u001b[0m\u001b[1;33m]\u001b[0m\u001b[1;33m.\u001b[0m\u001b[0msign\u001b[0m\u001b[1;33m(\u001b[0m\u001b[0mM\u001b[0m\u001b[1;33m)\u001b[0m  \u001b[1;31m# Lamport signature\u001b[0m\u001b[1;33m\u001b[0m\u001b[0m\n\u001b[0m",
      "\u001b[1;32mC:\\Users\\Jonas\\Documents\\GitHub\\merkle-tree\\src\\lamport.py\u001b[0m in \u001b[0;36msign\u001b[1;34m(self, msg)\u001b[0m\n\u001b[0;32m    114\u001b[0m         \"\"\"\n\u001b[0;32m    115\u001b[0m         \u001b[1;32mif\u001b[0m \u001b[0mself\u001b[0m\u001b[1;33m.\u001b[0m\u001b[0mused\u001b[0m\u001b[1;33m:\u001b[0m\u001b[1;33m\u001b[0m\u001b[0m\n\u001b[1;32m--> 116\u001b[1;33m             \u001b[1;32mraise\u001b[0m \u001b[0mValueError\u001b[0m\u001b[1;33m(\u001b[0m\u001b[1;34m\"Private and public keys already used!\"\u001b[0m\u001b[1;33m)\u001b[0m\u001b[1;33m\u001b[0m\u001b[0m\n\u001b[0m\u001b[0;32m    117\u001b[0m         \u001b[0mself\u001b[0m\u001b[1;33m.\u001b[0m\u001b[0mused\u001b[0m \u001b[1;33m=\u001b[0m \u001b[1;32mTrue\u001b[0m\u001b[1;33m\u001b[0m\u001b[0m\n\u001b[0;32m    118\u001b[0m         \u001b[0mmsg_hash\u001b[0m \u001b[1;33m=\u001b[0m \u001b[0mself\u001b[0m\u001b[1;33m.\u001b[0m\u001b[0mhash\u001b[0m\u001b[1;33m(\u001b[0m\u001b[0mmsg\u001b[0m\u001b[1;33m)\u001b[0m\u001b[1;33m\u001b[0m\u001b[0m\n",
      "\u001b[1;31mValueError\u001b[0m: Private and public keys already used!"
     ]
    }
   ],
   "source": [
    "pair = 3  # Re-use the same (Xi, Yi) pair number\n",
    "M = \"test the same key pair again\"  # message to sign\n",
    "sig_prime = key_pairs[pair].sign(M)  # Lamport signature"
   ]
  }
 ],
 "metadata": {
  "kernelspec": {
   "display_name": "Python 3",
   "language": "python",
   "name": "python3"
  },
  "language_info": {
   "codemirror_mode": {
    "name": "ipython",
    "version": 3
   },
   "file_extension": ".py",
   "mimetype": "text/x-python",
   "name": "python",
   "nbconvert_exporter": "python",
   "pygments_lexer": "ipython3",
   "version": "3.6.1"
  }
 },
 "nbformat": 4,
 "nbformat_minor": 1
}
